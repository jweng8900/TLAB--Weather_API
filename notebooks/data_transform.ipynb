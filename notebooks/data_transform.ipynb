{
 "cells": [
  {
   "cell_type": "code",
   "execution_count": null,
   "metadata": {},
   "outputs": [],
   "source": [
    "import pandas as pd\n",
    "import os\n",
    "df=pd.read_csv('./data/csv/weather_data.csv')"
   ]
  },
  {
   "cell_type": "markdown",
   "metadata": {},
   "source": [
    "Import pandas library \n",
    "\n",
    "Read in Weather csv file "
   ]
  },
  {
   "cell_type": "code",
   "execution_count": null,
   "metadata": {},
   "outputs": [
    {
     "data": {
      "text/plain": [
       "Index(['time', 'temperature_2m', 'relative_humidity_2m', 'precipitation',\n",
       "       'surface_pressure'],\n",
       "      dtype='object')\n"
      ]
     },
     "metadata": {},
     "output_type": "display_data"
    }
   ],
   "source": [
    "df.head()\n",
    "print(df.columns)"
   ]
  },
  {
   "cell_type": "code",
   "execution_count": null,
   "metadata": {},
   "outputs": [
    {
     "data": {
      "text/plain": [
       "<class 'pandas.core.frame.DataFrame'>\n",
       "RangeIndex: 17520 entries, 0 to 17519\n",
       "Data columns (total 5 columns):\n",
       " #   Column                Non-Null Count  Dtype  \n",
       "---  ------                --------------  -----  \n",
       " 0   time                  17520 non-null  object \n",
       " 1   temperature_2m        17520 non-null  float64\n",
       " 2   relative_humidity_2m  17520 non-null  int64  \n",
       " 3   precipitation         17520 non-null  float64\n",
       " 4   surface_pressure      17520 non-null  float64\n",
       "dtypes: float64(3), int64(1), object(1)\n",
       "memory usage: 684.5+ KB\n"
      ]
     },
     "metadata": {},
     "output_type": "display_data"
    }
   ],
   "source": [
    "df.info()"
   ]
  },
  {
   "cell_type": "code",
   "execution_count": null,
   "metadata": {},
   "outputs": [
    {
     "data": {
      "text/plain": [
       "<bound method NDFrame.head of                      temperature_2m  ...  surface_pressure\n",
       "time                                 ...                  \n",
       "2022-01-01 00:00:00            18.0  ...             906.6\n",
       "2022-01-01 01:00:00            18.2  ...             907.4\n",
       "2022-01-01 02:00:00            18.0  ...             907.2\n",
       "2022-01-01 03:00:00            17.9  ...             906.5\n",
       "2022-01-01 04:00:00            17.8  ...             905.9\n",
       "...                             ...  ...               ...\n",
       "2023-12-31 19:00:00            26.5  ...             908.8\n",
       "2023-12-31 20:00:00            25.9  ...             908.4\n",
       "2023-12-31 21:00:00            25.2  ...             908.5\n",
       "2023-12-31 22:00:00            24.0  ...             909.0\n",
       "2023-12-31 23:00:00            22.7  ...             909.8\n",
       "\n",
       "[17520 rows x 4 columns]>\n"
      ]
     },
     "metadata": {},
     "output_type": "display_data"
    }
   ],
   "source": [
    "df[\"time\"]=pd.to_datetime(df[\"time\"])\n",
    "df.set_index(\"time\",inplace=True)\n",
    "\n",
    "print(df.head)"
   ]
  },
  {
   "cell_type": "code",
   "execution_count": null,
   "metadata": {},
   "outputs": [
    {
     "data": {
      "text/plain": [
       "<class 'pandas.core.frame.DataFrame'>\n",
       "DatetimeIndex: 17520 entries, 2022-01-01 00:00:00 to 2023-12-31 23:00:00\n",
       "Data columns (total 4 columns):\n",
       " #   Column                Non-Null Count  Dtype  \n",
       "---  ------                --------------  -----  \n",
       " 0   temperature_2m        17520 non-null  float64\n",
       " 1   relative_humidity_2m  17520 non-null  int64  \n",
       " 2   precipitation         17520 non-null  float64\n",
       " 3   surface_pressure      17520 non-null  float64\n",
       "dtypes: float64(3), int64(1)\n",
       "memory usage: 684.4 KB\n"
      ]
     },
     "metadata": {},
     "output_type": "display_data"
    }
   ],
   "source": [
    "df.info()"
   ]
  },
  {
   "cell_type": "code",
   "execution_count": null,
   "metadata": {},
   "outputs": [
    {
     "data": {
      "text/plain": [
       "temp:  0\n",
       "humidity:  0\n",
       "precipitation:  0\n",
       "surface pressure:  0\n"
      ]
     },
     "metadata": {},
     "output_type": "display_data"
    }
   ],
   "source": [
    "\n",
    "empty_rows_count=df['temperature_2m'].isna().sum()\n",
    "print(\"temp: \", empty_rows_count)\n",
    "\n",
    "empty_rows_count=df['relative_humidity_2m'].isna().sum()\n",
    "print(\"humidity: \", empty_rows_count)\n",
    "\n",
    "empty_rows_count=df['precipitation'].isna().sum()\n",
    "print(\"precipitation: \", empty_rows_count)\n",
    "\n",
    "empty_rows_count=df['surface_pressure'].isna().sum()\n",
    "print(\"surface pressure: \", empty_rows_count)"
   ]
  },
  {
   "cell_type": "markdown",
   "metadata": {},
   "source": [
    "Checking for empty rows for each column"
   ]
  },
  {
   "cell_type": "code",
   "execution_count": null,
   "metadata": {},
   "outputs": [
    {
     "data": {
      "text/plain": [
       "            temperature_2m  ...  surface_pressure\n",
       "time                        ...                  \n",
       "2022-12-31            18.6  ...             911.4\n",
       "2023-12-31            20.7  ...             913.4\n",
       "\n",
       "[2 rows x 4 columns]\n"
      ]
     },
     "metadata": {},
     "output_type": "display_data"
    }
   ],
   "source": [
    "monthly_resampled_df = df.resample('M')['temperature_2m','relative_humidity_2m','precipitation','surface_pressure'].median()\n",
    "yearly_resampled_df= df.resample('Y')['temperature_2m','relative_humidity_2m','precipitation','surface_pressure'].median()\n",
    "print(yearly_resampled_df)"
   ]
  },
  {
   "cell_type": "code",
   "execution_count": null,
   "metadata": {},
   "outputs": [],
   "source": [
    "csv_path = os.path.join('./data/csv', 'monthly_weather_data.csv')\n",
    "monthly_resampled_df.to_csv(csv_path, index=True)\n",
    "\n",
    "csv_path = os.path.join('./data/csv', 'yearly_weather_data.csv')\n",
    "yearly_resampled_df.to_csv(csv_path, index=True)\n",
    "\n"
   ]
  },
  {
   "cell_type": "code",
   "execution_count": null,
   "metadata": {},
   "outputs": [
    {
     "data": {
      "text/plain": [
       "    country     subdivision  ... trees_hect_nonbear  avg_unemp_perc\n",
       "105  Brazil    Minas Gerais  ...             3191.0           7.150\n",
       "106  Brazil  Espirito Santo  ...             3191.0           7.925\n",
       "107  Brazil  Espirito Santo  ...             3191.0           7.925\n",
       "108  Brazil       Sao Paulo  ...             3191.0           9.075\n",
       "109  Brazil          Parana  ...             3191.0           5.825\n",
       "\n",
       "[5 rows x 12 columns]\n"
      ]
     },
     "metadata": {},
     "output_type": "display_data"
    }
   ],
   "source": [
    "df2=pd.read_csv('./data/csv/br_final.csv')\n",
    "\n",
    "filtered_df = df2[df2['subdivision'] == 'Minas Gerais']\n",
    "filtered_df = df2[df2['year'] >= 2022]\n",
    "\n",
    "print(filtered_df.head())\n"
   ]
  },
  {
   "cell_type": "code",
   "execution_count": null,
   "metadata": {},
   "outputs": [
    {
     "data": {
      "text/plain": [
       "105    2022\n",
       "106    2022\n",
       "107    2022\n",
       "108    2022\n",
       "109    2022\n",
       "110    2023\n",
       "111    2023\n",
       "112    2023\n",
       "113    2023\n",
       "114    2023\n",
       "Name: year, dtype: int64\n"
      ]
     },
     "metadata": {},
     "output_type": "display_data"
    }
   ],
   "source": [
    "print(filtered_df['year'])"
   ]
  },
  {
   "cell_type": "code",
   "execution_count": null,
   "metadata": {},
   "outputs": [
    {
     "data": {
      "text/plain": [
       "           country subdivision  ... trees_hect_nonbear  avg_unemp_perc\n",
       "time                            ...                                   \n",
       "2022-12-31  Brazil      Parana  ...             3191.0           5.825\n",
       "2023-12-31  Brazil      Parana  ...             3179.0             NaN\n",
       "\n",
       "[2 rows x 12 columns]\n"
      ]
     },
     "metadata": {},
     "output_type": "display_data"
    }
   ],
   "source": [
    "filtered_df['time'] = pd.to_datetime(filtered_df['year'].astype(str) + '-12-31')\n",
    "filtered_df.set_index('time', inplace=True)\n",
    "filtered_df = filtered_df.resample('Y').last()\n",
    "print(filtered_df.head())"
   ]
  },
  {
   "cell_type": "code",
   "execution_count": null,
   "metadata": {},
   "outputs": [
    {
     "data": {
      "text/plain": [
       "            temperature_2m  ...  avg_unemp_perc\n",
       "time                        ...                \n",
       "2022-12-31            18.6  ...           5.825\n",
       "2023-12-31            20.7  ...             NaN\n",
       "\n",
       "[2 rows x 16 columns]\n"
      ]
     },
     "metadata": {},
     "output_type": "display_data"
    }
   ],
   "source": [
    "merged_df = pd.merge(yearly_resampled_df, filtered_df, on='time', how='outer') \n",
    "print(merged_df)"
   ]
  },
  {
   "cell_type": "code",
   "execution_count": null,
   "metadata": {},
   "outputs": [],
   "source": [
    "csv_path = os.path.join('./data/csv', 'merged_data.csv')\n",
    "merged_df.to_csv(csv_path, index=True)\n",
    "\n"
   ]
  }
 ],
 "metadata": {
  "language_info": {
   "name": "python"
  }
 },
 "nbformat": 4,
 "nbformat_minor": 2
}
