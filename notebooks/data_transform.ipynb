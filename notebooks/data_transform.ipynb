{
 "cells": [
  {
   "cell_type": "code",
   "execution_count": null,
   "metadata": {},
   "outputs": [],
   "source": [
    "import pandas as pd\n",
    "import os\n",
    "df=pd.read_csv('../data/csv/weather_data.csv')"
   ]
  },
  {
   "cell_type": "markdown",
   "metadata": {},
   "source": [
    "Import pandas library \n",
    "\n",
    "Read in Weather csv file "
   ]
  },
  {
   "cell_type": "code",
   "execution_count": null,
   "metadata": {},
   "outputs": [],
   "source": [
    "df.head()\n",
    "print(df.columns)"
   ]
  },
  {
   "cell_type": "code",
   "execution_count": null,
   "metadata": {},
   "outputs": [],
   "source": [
    "df.info()"
   ]
  },
  {
   "cell_type": "code",
   "execution_count": null,
   "metadata": {},
   "outputs": [],
   "source": [
    "df[\"time\"]=pd.to_datetime(df[\"time\"])\n",
    "df.set_index(\"time\",inplace=True)\n",
    "\n",
    "print(df.head)"
   ]
  },
  {
   "cell_type": "markdown",
   "metadata": {},
   "source": [
    "Converting time format into pandas date time format aand indexing time to resample later. \n",
    "\n",
    "Also, checking the top rows to see if it worked correctly. "
   ]
  },
  {
   "cell_type": "code",
   "execution_count": null,
   "metadata": {},
   "outputs": [],
   "source": [
    "\n",
    "empty_rows_count=df['temperature_2m'].isna().sum()\n",
    "print(\"temp: \", empty_rows_count)\n",
    "\n",
    "empty_rows_count=df['relative_humidity_2m'].isna().sum()\n",
    "print(\"humidity: \", empty_rows_count)\n",
    "\n",
    "empty_rows_count=df['precipitation'].isna().sum()\n",
    "print(\"precipitation: \", empty_rows_count)\n",
    "\n",
    "empty_rows_count=df['surface_pressure'].isna().sum()\n",
    "print(\"surface pressure: \", empty_rows_count)"
   ]
  },
  {
   "cell_type": "markdown",
   "metadata": {},
   "source": [
    "Checking for any empty rows or values for each column.\n"
   ]
  },
  {
   "cell_type": "code",
   "execution_count": null,
   "metadata": {},
   "outputs": [],
   "source": [
    "monthly_resampled_df = df.resample('ME')['temperature_2m','relative_humidity_2m','precipitation','surface_pressure'].median()\n",
    "yearly_resampled_df= df.resample('YE')['temperature_2m','relative_humidity_2m','precipitation','surface_pressure'].median()\n",
    "print(yearly_resampled_df)"
   ]
  },
  {
   "cell_type": "markdown",
   "metadata": {},
   "source": [
    "Resampling the data into Monthly and Yearly and finding the medians of each variable. \n"
   ]
  },
  {
   "cell_type": "code",
   "execution_count": null,
   "metadata": {},
   "outputs": [],
   "source": [
    "csv_path = os.path.join('../data/csv', 'monthly_weather_data.csv')\n",
    "monthly_resampled_df.to_csv(csv_path, index=True)\n",
    "\n",
    "csv_path = os.path.join('../data/csv', 'yearly_weather_data.csv')\n",
    "yearly_resampled_df.to_csv(csv_path, index=True)\n",
    "\n"
   ]
  },
  {
   "cell_type": "markdown",
   "metadata": {},
   "source": [
    "Coverting the dataframe into csv files and saving the files into csv folder."
   ]
  },
  {
   "cell_type": "code",
   "execution_count": null,
   "metadata": {},
   "outputs": [],
   "source": [
    "df2=pd.read_csv('../data/csv/br_final.csv')\n",
    "\n",
    "filtered_df = df2[df2['subdivision'] == 'Minas Gerais']\n",
    "filtered_df = df2[df2['year'] >= 2022]\n",
    "\n",
    "print(filtered_df.head())\n"
   ]
  },
  {
   "cell_type": "markdown",
   "metadata": {},
   "source": [
    "Reading in the br_final csv file and filtering out everything besides region Minas Gerais from 2022 onwards. "
   ]
  },
  {
   "cell_type": "code",
   "execution_count": null,
   "metadata": {},
   "outputs": [],
   "source": [
    "print(filtered_df['year'])"
   ]
  },
  {
   "cell_type": "markdown",
   "metadata": {},
   "source": [
    "Double checking the years only include 2022 and 2023."
   ]
  },
  {
   "cell_type": "code",
   "execution_count": null,
   "metadata": {},
   "outputs": [],
   "source": [
    "filtered_df['time'] = pd.to_datetime(filtered_df['year'].astype(str) + '-12-31')\n",
    "filtered_df.set_index('time', inplace=True)\n",
    "filtered_df = filtered_df.resample('YE').last()\n",
    "print(filtered_df.head())"
   ]
  },
  {
   "cell_type": "markdown",
   "metadata": {},
   "source": [
    "Modifying the column year into the same format as weather data frame so we can join both on this index. "
   ]
  },
  {
   "cell_type": "code",
   "execution_count": null,
   "metadata": {},
   "outputs": [],
   "source": [
    "merged_df = pd.merge(yearly_resampled_df, filtered_df, on='time', how='outer') \n",
    "print(merged_df)"
   ]
  },
  {
   "cell_type": "markdown",
   "metadata": {},
   "source": [
    "Merging both data frames into one on index time with outer method. "
   ]
  },
  {
   "cell_type": "code",
   "execution_count": null,
   "metadata": {},
   "outputs": [],
   "source": [
    "merged_df.isna().sum()"
   ]
  },
  {
   "cell_type": "markdown",
   "metadata": {},
   "source": [
    "Checking for null values. "
   ]
  },
  {
   "cell_type": "code",
   "execution_count": null,
   "metadata": {},
   "outputs": [],
   "source": [
    "csv_path = os.path.join('../data/csv', 'merged_data.csv')\n",
    "merged_df.to_csv(csv_path, index=True)\n"
   ]
  },
  {
   "cell_type": "markdown",
   "metadata": {},
   "source": [
    "Converting the merged data frame into csv and saving it to csv folder."
   ]
  }
 ],
 "metadata": {
  "kernelspec": {
   "display_name": "base",
   "language": "python",
   "name": "python3"
  },
  "language_info": {
   "codemirror_mode": {
    "name": "ipython",
    "version": 3
   },
   "file_extension": ".py",
   "mimetype": "text/x-python",
   "name": "python",
   "nbconvert_exporter": "python",
   "pygments_lexer": "ipython3",
   "version": "3.12.7"
  }
 },
 "nbformat": 4,
 "nbformat_minor": 2
}
