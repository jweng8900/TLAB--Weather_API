{
 "cells": [
  {
   "cell_type": "code",
   "execution_count": null,
   "metadata": {},
   "outputs": [],
   "source": [
    "import pandas as pd\n",
    "\n",
    "df=pd.read_csv('./data/csv/weather_data.csv')"
   ]
  },
  {
   "cell_type": "markdown",
   "metadata": {},
   "source": [
    "Import pandas library \n",
    "\n",
    "Read in Weather csv file "
   ]
  },
  {
   "cell_type": "code",
   "execution_count": null,
   "metadata": {},
   "outputs": [
    {
     "data": {
      "text/plain": [
       "               time  temperature_2m  ...  precipitation  surface_pressure\n",
       "0  2022-01-01T00:00            18.0  ...            0.0             906.6\n",
       "1  2022-01-01T01:00            18.2  ...            0.1             907.4\n",
       "2  2022-01-01T02:00            18.0  ...            0.1             907.2\n",
       "3  2022-01-01T03:00            17.9  ...            0.3             906.5\n",
       "4  2022-01-01T04:00            17.8  ...            1.0             905.9\n",
       "\n",
       "[5 rows x 5 columns]\n"
      ]
     },
     "metadata": {},
     "output_type": "display_data"
    }
   ],
   "source": [
    "df.head()"
   ]
  },
  {
   "cell_type": "code",
   "execution_count": null,
   "metadata": {},
   "outputs": [
    {
     "data": {
      "text/plain": [
       "time:  0\n",
       "temp:  0\n",
       "humidity:  0\n",
       "precipitation:  0\n",
       "surface pressure:  0\n"
      ]
     },
     "metadata": {},
     "output_type": "display_data"
    }
   ],
   "source": [
    "empty_rows_count=df[\"time\"].isna().sum()\n",
    "print(\"time: \", empty_rows_count)\n",
    "\n",
    "empty_rows_count=df[\"temperature_2m\"].isna().sum()\n",
    "print(\"temp: \", empty_rows_count)\n",
    "\n",
    "empty_rows_count=df[\"relative_humidity_2m\"].isna().sum()\n",
    "print(\"humidity: \", empty_rows_count)\n",
    "\n",
    "empty_rows_count=df[\"precipitation\"].isna().sum()\n",
    "print(\"precipitation: \", empty_rows_count)\n",
    "\n",
    "empty_rows_count=df[\"surface_pressure\"].isna().sum()\n",
    "print(\"surface pressure: \", empty_rows_count)"
   ]
  },
  {
   "cell_type": "markdown",
   "metadata": {},
   "source": [
    "Checking for empty rows for each column"
   ]
  },
  {
   "cell_type": "code",
   "execution_count": null,
   "metadata": {},
   "outputs": [],
   "source": [
    "df['time'] = pd.to_datetime(df['time'])\n",
    "df.set_index('time', inplace=True)"
   ]
  },
  {
   "cell_type": "code",
   "execution_count": null,
   "metadata": {},
   "outputs": [
    {
     "data": {
      "text/plain": [
       "            temperature_2m  ...  surface_pressure\n",
       "time                        ...                  \n",
       "2022-01-31           19.10  ...            908.70\n",
       "2022-02-28           19.10  ...            909.20\n",
       "2022-03-31           19.80  ...            910.10\n",
       "2022-04-30           18.45  ...            911.30\n",
       "2022-05-31           14.80  ...            912.40\n",
       "2022-06-30           15.40  ...            913.10\n",
       "2022-07-31           15.85  ...            914.40\n",
       "2022-08-31           16.70  ...            914.00\n",
       "2022-09-30           18.60  ...            912.30\n",
       "2022-10-31           19.80  ...            910.70\n",
       "2022-11-30           18.80  ...            910.80\n",
       "2022-12-31           20.40  ...            910.50\n",
       "2023-01-31           20.50  ...            911.80\n",
       "2023-02-28           21.80  ...            912.60\n",
       "2023-03-31           21.65  ...            913.40\n",
       "2023-04-30           19.70  ...            912.80\n",
       "2023-05-31           17.30  ...            914.80\n",
       "2023-06-30           15.80  ...            916.10\n",
       "2023-07-31           16.70  ...            916.50\n",
       "2023-08-31           18.80  ...            915.30\n",
       "2023-09-30           23.00  ...            914.25\n",
       "2023-10-31           22.60  ...            912.20\n",
       "2023-11-30           23.90  ...            911.50\n",
       "2023-12-31           23.30  ...            911.80\n",
       "\n",
       "[24 rows x 4 columns]\n"
      ]
     },
     "metadata": {},
     "output_type": "display_data"
    }
   ],
   "source": [
    "monthly_resampled_df = df.resample('M').median()\n",
    "\n",
    "print(monthly_resampled_df)"
   ]
  }
 ],
 "metadata": {
  "language_info": {
   "name": "python"
  }
 },
 "nbformat": 4,
 "nbformat_minor": 2
}
