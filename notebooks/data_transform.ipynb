{
 "cells": [
  {
   "cell_type": "code",
   "execution_count": 112,
   "metadata": {},
   "outputs": [],
   "source": [
    "import pandas as pd\n",
    "import os\n",
    "df=pd.read_csv('../data/csv/weather_data.csv')"
   ]
  },
  {
   "cell_type": "markdown",
   "metadata": {},
   "source": [
    "Import pandas library \n",
    "\n",
    "Read in Weather csv file "
   ]
  },
  {
   "cell_type": "code",
   "execution_count": 113,
   "metadata": {},
   "outputs": [
    {
     "name": "stdout",
     "output_type": "stream",
     "text": [
      "Index(['time', 'temperature_2m', 'relative_humidity_2m', 'precipitation',\n",
      "       'surface_pressure'],\n",
      "      dtype='object')\n"
     ]
    }
   ],
   "source": [
    "df.head()\n",
    "print(df.columns)"
   ]
  },
  {
   "cell_type": "code",
   "execution_count": 114,
   "metadata": {},
   "outputs": [
    {
     "name": "stdout",
     "output_type": "stream",
     "text": [
      "<class 'pandas.core.frame.DataFrame'>\n",
      "RangeIndex: 17520 entries, 0 to 17519\n",
      "Data columns (total 5 columns):\n",
      " #   Column                Non-Null Count  Dtype  \n",
      "---  ------                --------------  -----  \n",
      " 0   time                  17520 non-null  object \n",
      " 1   temperature_2m        17520 non-null  float64\n",
      " 2   relative_humidity_2m  17520 non-null  int64  \n",
      " 3   precipitation         17520 non-null  float64\n",
      " 4   surface_pressure      17520 non-null  float64\n",
      "dtypes: float64(3), int64(1), object(1)\n",
      "memory usage: 684.5+ KB\n"
     ]
    }
   ],
   "source": [
    "df.info()"
   ]
  },
  {
   "cell_type": "code",
   "execution_count": 115,
   "metadata": {},
   "outputs": [
    {
     "name": "stdout",
     "output_type": "stream",
     "text": [
      "<bound method NDFrame.head of                      temperature_2m  relative_humidity_2m  precipitation  \\\n",
      "time                                                                       \n",
      "2022-01-01 00:00:00            18.0                    96            0.0   \n",
      "2022-01-01 01:00:00            18.2                    95            0.1   \n",
      "2022-01-01 02:00:00            18.0                    96            0.1   \n",
      "2022-01-01 03:00:00            17.9                    97            0.3   \n",
      "2022-01-01 04:00:00            17.8                    98            1.0   \n",
      "...                             ...                   ...            ...   \n",
      "2023-12-31 19:00:00            26.5                    75            0.5   \n",
      "2023-12-31 20:00:00            25.9                    78            0.5   \n",
      "2023-12-31 21:00:00            25.2                    82            0.5   \n",
      "2023-12-31 22:00:00            24.0                    85            3.2   \n",
      "2023-12-31 23:00:00            22.7                    87            3.2   \n",
      "\n",
      "                     surface_pressure  \n",
      "time                                   \n",
      "2022-01-01 00:00:00             906.6  \n",
      "2022-01-01 01:00:00             907.4  \n",
      "2022-01-01 02:00:00             907.2  \n",
      "2022-01-01 03:00:00             906.5  \n",
      "2022-01-01 04:00:00             905.9  \n",
      "...                               ...  \n",
      "2023-12-31 19:00:00             908.8  \n",
      "2023-12-31 20:00:00             908.4  \n",
      "2023-12-31 21:00:00             908.5  \n",
      "2023-12-31 22:00:00             909.0  \n",
      "2023-12-31 23:00:00             909.8  \n",
      "\n",
      "[17520 rows x 4 columns]>\n"
     ]
    }
   ],
   "source": [
    "df[\"time\"]=pd.to_datetime(df[\"time\"])\n",
    "df.set_index(\"time\",inplace=True)\n",
    "\n",
    "print(df.head)"
   ]
  },
  {
   "cell_type": "code",
   "execution_count": 116,
   "metadata": {},
   "outputs": [
    {
     "name": "stdout",
     "output_type": "stream",
     "text": [
      "<class 'pandas.core.frame.DataFrame'>\n",
      "DatetimeIndex: 17520 entries, 2022-01-01 00:00:00 to 2023-12-31 23:00:00\n",
      "Data columns (total 4 columns):\n",
      " #   Column                Non-Null Count  Dtype  \n",
      "---  ------                --------------  -----  \n",
      " 0   temperature_2m        17520 non-null  float64\n",
      " 1   relative_humidity_2m  17520 non-null  int64  \n",
      " 2   precipitation         17520 non-null  float64\n",
      " 3   surface_pressure      17520 non-null  float64\n",
      "dtypes: float64(3), int64(1)\n",
      "memory usage: 684.4 KB\n"
     ]
    }
   ],
   "source": [
    "df.info()"
   ]
  },
  {
   "cell_type": "code",
   "execution_count": 117,
   "metadata": {},
   "outputs": [
    {
     "name": "stdout",
     "output_type": "stream",
     "text": [
      "temp:  0\n",
      "humidity:  0\n",
      "precipitation:  0\n",
      "surface pressure:  0\n"
     ]
    }
   ],
   "source": [
    "\n",
    "empty_rows_count=df['temperature_2m'].isna().sum()\n",
    "print(\"temp: \", empty_rows_count)\n",
    "\n",
    "empty_rows_count=df['relative_humidity_2m'].isna().sum()\n",
    "print(\"humidity: \", empty_rows_count)\n",
    "\n",
    "empty_rows_count=df['precipitation'].isna().sum()\n",
    "print(\"precipitation: \", empty_rows_count)\n",
    "\n",
    "empty_rows_count=df['surface_pressure'].isna().sum()\n",
    "print(\"surface pressure: \", empty_rows_count)"
   ]
  },
  {
   "cell_type": "markdown",
   "metadata": {},
   "source": [
    "Checking for empty rows for each column"
   ]
  },
  {
   "cell_type": "code",
   "execution_count": 118,
   "metadata": {},
   "outputs": [
    {
     "name": "stdout",
     "output_type": "stream",
     "text": [
      "            temperature_2m  relative_humidity_2m  precipitation  \\\n",
      "time                                                              \n",
      "2022-12-31            18.6                  78.0            0.0   \n",
      "2023-12-31            20.7                  78.0            0.0   \n",
      "\n",
      "            surface_pressure  \n",
      "time                          \n",
      "2022-12-31             911.4  \n",
      "2023-12-31             913.4  \n"
     ]
    }
   ],
   "source": [
    "monthly_resampled_df = df.resample('ME')['temperature_2m','relative_humidity_2m','precipitation','surface_pressure'].median()\n",
    "yearly_resampled_df= df.resample('YE')['temperature_2m','relative_humidity_2m','precipitation','surface_pressure'].median()\n",
    "print(yearly_resampled_df)"
   ]
  },
  {
   "cell_type": "code",
   "execution_count": 119,
   "metadata": {},
   "outputs": [],
   "source": [
    "csv_path = os.path.join('../data/csv', 'monthly_weather_data.csv')\n",
    "monthly_resampled_df.to_csv(csv_path, index=True)\n",
    "\n",
    "csv_path = os.path.join('../data/csv', 'yearly_weather_data.csv')\n",
    "yearly_resampled_df.to_csv(csv_path, index=True)\n",
    "\n"
   ]
  },
  {
   "cell_type": "code",
   "execution_count": 120,
   "metadata": {},
   "outputs": [
    {
     "name": "stdout",
     "output_type": "stream",
     "text": [
      "    country     subdivision     type  million_60kgs_bag  year  \\\n",
      "105  Brazil    Minas Gerais  Arabica               24.5  2022   \n",
      "106  Brazil  Espirito Santo  Arabica                3.7  2022   \n",
      "107  Brazil  Espirito Santo  Robusta               15.7  2022   \n",
      "108  Brazil       Sao Paulo  Arabica                4.6  2022   \n",
      "109  Brazil          Parana  Arabica                1.0  2022   \n",
      "\n",
      "     nonbear_mill_trees  bear_mill_trees  nonbear_thous_hect  bear_thous_hect  \\\n",
      "105              1500.0           6010.0               470.0           2010.0   \n",
      "106              1500.0           6010.0               470.0           2010.0   \n",
      "107              1500.0           6010.0               470.0           2010.0   \n",
      "108              1500.0           6010.0               470.0           2010.0   \n",
      "109              1500.0           6010.0               470.0           2010.0   \n",
      "\n",
      "     trees_hect_bear  trees_hect_nonbear  avg_unemp_perc  \n",
      "105           2990.0              3191.0           7.150  \n",
      "106           2990.0              3191.0           7.925  \n",
      "107           2990.0              3191.0           7.925  \n",
      "108           2990.0              3191.0           9.075  \n",
      "109           2990.0              3191.0           5.825  \n"
     ]
    }
   ],
   "source": [
    "df2=pd.read_csv('../data/csv/br_final.csv')\n",
    "\n",
    "filtered_df = df2[df2['subdivision'] == 'Minas Gerais']\n",
    "filtered_df = df2[df2['year'] >= 2022]\n",
    "\n",
    "print(filtered_df.head())\n"
   ]
  },
  {
   "cell_type": "code",
   "execution_count": 121,
   "metadata": {},
   "outputs": [
    {
     "name": "stdout",
     "output_type": "stream",
     "text": [
      "105    2022\n",
      "106    2022\n",
      "107    2022\n",
      "108    2022\n",
      "109    2022\n",
      "110    2023\n",
      "111    2023\n",
      "112    2023\n",
      "113    2023\n",
      "114    2023\n",
      "Name: year, dtype: int64\n"
     ]
    }
   ],
   "source": [
    "print(filtered_df['year'])"
   ]
  },
  {
   "cell_type": "code",
   "execution_count": null,
   "metadata": {},
   "outputs": [
    {
     "name": "stdout",
     "output_type": "stream",
     "text": [
      "           country subdivision     type  million_60kgs_bag  year  \\\n",
      "time                                                               \n",
      "2022-12-31  Brazil      Parana  Arabica                1.0  2022   \n",
      "2023-12-31  Brazil      Parana  Arabica                0.8  2023   \n",
      "\n",
      "            nonbear_mill_trees  bear_mill_trees  nonbear_thous_hect  \\\n",
      "time                                                                  \n",
      "2022-12-31              1500.0           6010.0               470.0   \n",
      "2023-12-31              1510.0           6100.0               475.0   \n",
      "\n",
      "            bear_thous_hect  trees_hect_bear  trees_hect_nonbear  \\\n",
      "time                                                               \n",
      "2022-12-31           2010.0           2990.0              3191.0   \n",
      "2023-12-31           2020.0           3020.0              3179.0   \n",
      "\n",
      "            avg_unemp_perc  \n",
      "time                        \n",
      "2022-12-31           5.825  \n",
      "2023-12-31             NaN  \n"
     ]
    },
    {
     "name": "stderr",
     "output_type": "stream",
     "text": [
      "/var/folders/tz/d5q8959110ddsf_77jb4dvp00000gn/T/ipykernel_88384/131140024.py:1: SettingWithCopyWarning: \n",
      "A value is trying to be set on a copy of a slice from a DataFrame.\n",
      "Try using .loc[row_indexer,col_indexer] = value instead\n",
      "\n",
      "See the caveats in the documentation: https://pandas.pydata.org/pandas-docs/stable/user_guide/indexing.html#returning-a-view-versus-a-copy\n",
      "  filtered_df['time'] = pd.to_datetime(filtered_df['year'].astype(str) + '-12-31')\n"
     ]
    }
   ],
   "source": [
    "filtered_df['time'] = pd.to_datetime(filtered_df['year'].astype(str) + '-12-31')\n",
    "filtered_df.set_index('time', inplace=True)\n",
    "filtered_df = filtered_df.resample('Y').last()\n",
    "print(filtered_df.head())"
   ]
  },
  {
   "cell_type": "code",
   "execution_count": 123,
   "metadata": {},
   "outputs": [
    {
     "name": "stdout",
     "output_type": "stream",
     "text": [
      "            temperature_2m  relative_humidity_2m  precipitation  \\\n",
      "time                                                              \n",
      "2022-12-31            18.6                  78.0            0.0   \n",
      "2023-12-31            20.7                  78.0            0.0   \n",
      "\n",
      "            surface_pressure country subdivision     type  million_60kgs_bag  \\\n",
      "time                                                                           \n",
      "2022-12-31             911.4  Brazil      Parana  Arabica                1.0   \n",
      "2023-12-31             913.4  Brazil      Parana  Arabica                0.8   \n",
      "\n",
      "            year  nonbear_mill_trees  bear_mill_trees  nonbear_thous_hect  \\\n",
      "time                                                                        \n",
      "2022-12-31  2022              1500.0           6010.0               470.0   \n",
      "2023-12-31  2023              1510.0           6100.0               475.0   \n",
      "\n",
      "            bear_thous_hect  trees_hect_bear  trees_hect_nonbear  \\\n",
      "time                                                               \n",
      "2022-12-31           2010.0           2990.0              3191.0   \n",
      "2023-12-31           2020.0           3020.0              3179.0   \n",
      "\n",
      "            avg_unemp_perc  \n",
      "time                        \n",
      "2022-12-31           5.825  \n",
      "2023-12-31             NaN  \n"
     ]
    }
   ],
   "source": [
    "merged_df = pd.merge(yearly_resampled_df, filtered_df, on='time', how='outer') \n",
    "print(merged_df)"
   ]
  },
  {
   "cell_type": "code",
   "execution_count": 124,
   "metadata": {},
   "outputs": [
    {
     "data": {
      "text/plain": [
       "temperature_2m          0\n",
       "relative_humidity_2m    0\n",
       "precipitation           0\n",
       "surface_pressure        0\n",
       "country                 0\n",
       "subdivision             0\n",
       "type                    0\n",
       "million_60kgs_bag       0\n",
       "year                    0\n",
       "nonbear_mill_trees      0\n",
       "bear_mill_trees         0\n",
       "nonbear_thous_hect      0\n",
       "bear_thous_hect         0\n",
       "trees_hect_bear         0\n",
       "trees_hect_nonbear      0\n",
       "avg_unemp_perc          1\n",
       "dtype: int64"
      ]
     },
     "execution_count": 124,
     "metadata": {},
     "output_type": "execute_result"
    }
   ],
   "source": [
    "merged_df.isna().sum()"
   ]
  },
  {
   "cell_type": "code",
   "execution_count": 125,
   "metadata": {},
   "outputs": [],
   "source": [
    "csv_path = os.path.join('../data/csv', 'merged_data.csv')\n",
    "merged_df.to_csv(csv_path, index=True)\n"
   ]
  }
 ],
 "metadata": {
  "kernelspec": {
   "display_name": "base",
   "language": "python",
   "name": "python3"
  },
  "language_info": {
   "codemirror_mode": {
    "name": "ipython",
    "version": 3
   },
   "file_extension": ".py",
   "mimetype": "text/x-python",
   "name": "python",
   "nbconvert_exporter": "python",
   "pygments_lexer": "ipython3",
   "version": "3.12.7"
  }
 },
 "nbformat": 4,
 "nbformat_minor": 2
}
