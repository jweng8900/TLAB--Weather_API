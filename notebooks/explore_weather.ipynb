{
 "cells": [
  {
   "cell_type": "markdown",
   "metadata": {},
   "source": [
    "* How have harvest outcomes changed for Minas Gerais throughout the years?  \n",
    "    * Are these harvest outcomes similar to other regions in Brazil?  \n",
    "    * Which region produces the most coffee (by sub-category) in Brazil?  \n",
    "* How has unemployment changed in the various coffee-producing regions of Brazil?  \n",
    "* How have weather outcomes changed for Minas Gerais throughout the years?  \n",
    "* Does it seem that coffee harvest is dependent on weather? If so, which specific variable seems to \"coffee\" harvest. If not, which variable might appear to be correlated with harvest outcomes instead?"
   ]
  },
  {
   "cell_type": "code",
   "execution_count": null,
   "metadata": {},
   "outputs": [],
   "source": [
    "import pandas as pd\n",
    "import os\n",
    "import seaborn as sns\n",
    "import matplotlib.pyplot as plt\n",
    "\n",
    "weather_df=pd.read_csv('./data/csv/weather_data.csv')\n",
    "monthly_df=pd.read_csv('./data/csv/monthly_weather_data.csv')\n",
    "yearly_df=pd.read_csv('./data/csv/yearly_weather_data.csv')\n",
    "br_df=pd.read_csv('./data/csv/br_final.csv')\n",
    "merged_df=pd.read_csv('./data/csv/merged_data.csv')"
   ]
  },
  {
   "cell_type": "code",
   "execution_count": null,
   "metadata": {},
   "outputs": [],
   "source": [
    "plt.figure(figsize=(12, 6))\n",
    "sns.boxplot(x='subdivision', y='million_60kgs_bag', data=br_df)\n",
    "\n",
    "# Rotate the x-axis labels for better readability\n",
    "plt.xticks(rotation=45, ha='right')\n",
    "\n",
    "# Add title and labels\n",
    "plt.title('Distribution of Million 60kg Bags by Subdivision')\n",
    "plt.xlabel('Subdivision')\n",
    "plt.ylabel('Million 60kg Bags')\n",
    "\n",
    "# Show the plot\n",
    "plt.tight_layout()\n",
    "plt.show()"
   ]
  },
  {
   "cell_type": "markdown",
   "metadata": {},
   "source": [
    "Box plot shows different subdivisions and their million 60kgs bag coffee exports.\n",
    "\n",
    "Minas Gerais "
   ]
  }
 ],
 "metadata": {
  "language_info": {
   "name": "python"
  }
 },
 "nbformat": 4,
 "nbformat_minor": 2
}
