{
 "cells": [
  {
   "cell_type": "markdown",
   "metadata": {},
   "source": [
    "* How have harvest outcomes changed for Minas Gerais throughout the years?  \n",
    "    * Are these harvest outcomes similar to other regions in Brazil?  \n",
    "    * Which region produces the most coffee (by sub-category) in Brazil?  \n",
    "* How has unemployment changed in the various coffee-producing regions of Brazil?  \n",
    "* How have weather outcomes changed for Minas Gerais throughout the years?  \n",
    "* Does it seem that coffee harvest is dependent on weather? If so, which specific variable seems to \"coffee\" harvest. If not, which variable might appear to be correlated with harvest outcomes instead?"
   ]
  },
  {
   "cell_type": "code",
   "execution_count": null,
   "metadata": {},
   "outputs": [],
   "source": [
    "import pandas as pd\n",
    "import os\n",
    "weather_df=pd.read_csv('./data/csv/weather_data.csv')\n",
    "monthly_df=pd.read_csv('./data/csv/monthly_weather_data.csv')\n",
    "yearly_df=pd.read_csv('./data/csv/yearly_weather_data.csv')\n",
    "br_df=pd.read_csv('./data/csv/br_final.csv')\n",
    "merged_df=pd.read_csv('./data/csv/merged_data.csv')"
   ]
  }
 ],
 "metadata": {
  "language_info": {
   "name": "python"
  }
 },
 "nbformat": 4,
 "nbformat_minor": 2
}
